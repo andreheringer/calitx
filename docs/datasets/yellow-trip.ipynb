{
 "metadata": {
  "language_info": {
   "codemirror_mode": {
    "name": "ipython",
    "version": 3
   },
   "file_extension": ".py",
   "mimetype": "text/x-python",
   "name": "python",
   "nbconvert_exporter": "python",
   "pygments_lexer": "ipython3",
   "version": 3
  },
  "orig_nbformat": 2
 },
 "nbformat": 4,
 "nbformat_minor": 2,
 "cells": [
  {
   "source": [
    "# Yellow Trip Data\n",
    "\n",
    "Este dataset é um conjunto de informações relacionadas as viagens de Táxis Amarelos na cidade de Nova York em Abril de 2019. Para as séries temporais extraidas a partir deste dataset os registros temporais são sempre o momento de início da viagem. A partir dos dados foram extraidas as seguintes tuplas para séries temporais:\n",
    "\n",
    "- Registro Temporal - Quantidade de Passageiros\n",
    "- Registro Temporal - Total Pago\n",
    "- Registro Temporal - Gorjeta\n",
    "- Registro Temporal - Distância\n",
    "\n",
    "A seguir algumas considerações sobre esses dados."
   ],
   "cell_type": "markdown",
   "metadata": {}
  },
  {
   "cell_type": "code",
   "execution_count": null,
   "metadata": {},
   "outputs": [],
   "source": []
  }
 ]
}