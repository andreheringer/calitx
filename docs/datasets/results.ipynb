{
 "metadata": {
  "language_info": {
   "codemirror_mode": {
    "name": "ipython",
    "version": 3
   },
   "file_extension": ".py",
   "mimetype": "text/x-python",
   "name": "python",
   "nbconvert_exporter": "python",
   "pygments_lexer": "ipython3",
   "version": "3.8.2-final"
  },
  "orig_nbformat": 2,
  "kernelspec": {
   "name": "Python 3.8.2 64-bit ('.env': venv)",
   "display_name": "Python 3.8.2 64-bit ('.env': venv)",
   "metadata": {
    "interpreter": {
     "hash": "f07fdbc9a4de875c968ed778863f9a21875633584bc57a38fb0015ad1455c63f"
    }
   }
  }
 },
 "nbformat": 4,
 "nbformat_minor": 2,
 "cells": [
  {
   "source": [
    "# Yellow Trip Data\n",
    "\n",
    "Este dataset é um conjunto de informações relacionadas as viagens de Táxis Amarelos na cidade de Nova York em Abril de 2019. Para as séries temporais extraidas a partir deste dataset os registros temporais são sempre o momento de início da viagem. A partir dos dados foram extraidas as seguintes tuplas para séries temporais:\n",
    "\n",
    "- Registro Temporal - Quantidade de Passageiros\n",
    "- Registro Temporal - Total Pago\n",
    "- Registro Temporal - Distância\n",
    "\n",
    "A seguir algumas considerações sobre esses dados."
   ],
   "cell_type": "markdown",
   "metadata": {}
  },
  {
   "source": [
    "(2173865 * 16) /15.5834"
   ],
   "cell_type": "code",
   "metadata": {},
   "execution_count": 2,
   "outputs": [
    {
     "output_type": "execute_result",
     "data": {
      "text/plain": "2231980.1840419937"
     },
     "metadata": {},
     "execution_count": 2
    }
   ]
  },
  {
   "source": [
    "## Depois de executada a compressão os seguintes resultados foram obtidos:\n",
    "\n",
    "| Atribudo            | Tempo de Compressão      | Taxa de Compressão | Velocidade de Compressão |\n",
    "| ------------------- | -----------------------: | -----------------: | -----------------------: |\n",
    "| passager_count      | 7.8422                   | 10.8615            | 4442996.0980             |\n",
    "| trip_distance       | 16.0706                  | 1.8971             | 2168112.2048             |\n",
    "| total_amount        | 15.5834                  | 2.1332             | 2231980.1840             |"
   ],
   "cell_type": "markdown",
   "metadata": {}
  },
  {
   "cell_type": "code",
   "execution_count": null,
   "metadata": {},
   "outputs": [],
   "source": []
  }
 ]
}